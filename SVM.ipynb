{
 "cells": [
  {
   "cell_type": "markdown",
   "metadata": {},
   "source": [
    "### 1. IMPORTING LIBRARIES"
   ]
  },
  {
   "cell_type": "code",
   "execution_count": 1,
   "metadata": {},
   "outputs": [],
   "source": [
    "###IMPORTING LIBRARIES\n",
    "\n",
    "import numpy as np\n",
    "\n",
    "import os\n",
    "import gzip\n",
    "\n",
    "import mnist_reader\n",
    "\n",
    "from sklearn.metrics import accuracy_score\n",
    "from sklearn.decomposition import PCA\n",
    "\n",
    "from sklearn.discriminant_analysis import LinearDiscriminantAnalysis\n",
    "\n",
    "from sklearn import svm\n",
    "from sklearn.svm import SVC\n"
   ]
  },
  {
   "cell_type": "markdown",
   "metadata": {},
   "source": [
    "### 2. LOADING FASHION-MNIST DATASET FROM PATH"
   ]
  },
  {
   "cell_type": "code",
   "execution_count": 2,
   "metadata": {},
   "outputs": [],
   "source": [
    "###LOADING MNIST DATASET\n",
    "\n",
    "\n",
    "def load_mnist(path, kind='train'):\n",
    "   \n",
    "    \"\"\"Load MNIST data from `path`\"\"\"\n",
    "    labels_path = os.path.join(path,'%s-labels-idx1-ubyte.gz'% kind)\n",
    "\n",
    "    images_path = os.path.join(path,'%s-images-idx3-ubyte.gz'% kind)\n",
    "\n",
    "    with gzip.open(labels_path, 'rb') as lbpath:\n",
    "        labels = np.frombuffer(lbpath.read(), dtype=np.uint8,offset=8)\n",
    "\n",
    "    with gzip.open(images_path, 'rb') as imgpath:\n",
    "        images = np.frombuffer(imgpath.read(), dtype=np.uint8,offset=16).reshape(len(labels), 784)\n",
    "\n",
    "    print(\"Dataset Loaded\")\n",
    "    \n",
    "    return images, labels"
   ]
  },
  {
   "cell_type": "markdown",
   "metadata": {},
   "source": [
    "### 3. LOADING TEST AND TRAIN SET FEATURES AND LABELS"
   ]
  },
  {
   "cell_type": "code",
   "execution_count": 3,
   "metadata": {},
   "outputs": [],
   "source": [
    "###LOADING TRAIN AND TEST SET FEATURES AND LABELS\n",
    "\n",
    "X_train, y_train = mnist_reader.load_mnist('C:/Users/evars/OneDrive/Desktop/ENEE633_P2', kind='train')\n",
    "X_test, y_test = mnist_reader.load_mnist('C:/Users/evars/OneDrive/Desktop/ENEE633_P2', kind='t10k')\n"
   ]
  },
  {
   "cell_type": "markdown",
   "metadata": {},
   "source": [
    "### 4. DATA NORMALIZING"
   ]
  },
  {
   "cell_type": "code",
   "execution_count": 4,
   "metadata": {},
   "outputs": [
    {
     "name": "stdout",
     "output_type": "stream",
     "text": [
      "Feature Train and Test datasets are normalized\n",
      "Shape of Train set features (X_train) :   (60000, 784)\n",
      "Shape of Train set labels (y_train) :   (60000,)\n",
      "Shape of Test set features (X_test) :   (10000, 784)\n",
      "Shape of Test set labels (y_test) :   (10000,)\n"
     ]
    }
   ],
   "source": [
    "###NORMALIZING AND CHECKING THE SHAPES OF TRAIN AND TEST SETS\n",
    "\n",
    "\n",
    "\n",
    "X_train = X_train/255\n",
    "\n",
    "X_test = X_test/255\n",
    "\n",
    "print(\"Feature Train and Test datasets are normalized\")\n",
    "\n",
    "#print(X_train[1])\n",
    "\n",
    "#X_train = X_train.reshape(X_train.shape).T   \n",
    "\n",
    "#y_train = y_train[np.newaxis]\n",
    "\n",
    "#X_test = X_test.reshape(X_test.shape).T   \n",
    "\n",
    "#y_test = y_test[np.newaxis]\n",
    "\n",
    "print(\"Shape of Train set features (X_train) :  \",X_train.shape)\n",
    "print(\"Shape of Train set labels (y_train) :  \",y_train.shape)\n",
    "print(\"Shape of Test set features (X_test) :  \",X_test.shape)\n",
    "print(\"Shape of Test set labels (y_test) :  \",y_test.shape)"
   ]
  },
  {
   "cell_type": "markdown",
   "metadata": {},
   "source": [
    "### 5. APPLYING LDA TO TEST AND TRAIN"
   ]
  },
  {
   "cell_type": "code",
   "execution_count": 5,
   "metadata": {},
   "outputs": [
    {
     "name": "stderr",
     "output_type": "stream",
     "text": [
      "C:\\Users\\evars\\Anaconda3\\lib\\site-packages\\sklearn\\discriminant_analysis.py:442: UserWarning: The priors do not sum to 1. Renormalizing\n",
      "  UserWarning)\n",
      "C:\\Users\\evars\\Anaconda3\\lib\\site-packages\\sklearn\\discriminant_analysis.py:388: UserWarning: Variables are collinear.\n",
      "  warnings.warn(\"Variables are collinear.\")\n"
     ]
    },
    {
     "name": "stdout",
     "output_type": "stream",
     "text": [
      "Shape of Feature Test set Before LDA:  (60000, 784)\n",
      "Shape of Feature Test set After LDA:  (60000, 9)\n",
      "Shape of Feature Test set Before LDA:  (10000, 784)\n",
      "Shape of Feature Test set After LDA:  (10000, 9)\n"
     ]
    }
   ],
   "source": [
    "###  LDA\n",
    "\n",
    "\n",
    "lda = LinearDiscriminantAnalysis()\n",
    "\n",
    "X_train_lda = lda.fit_transform(X_train,y_train)\n",
    "\n",
    "X_test_lda = lda.transform(X_test)\n",
    "\n",
    "print(\"Shape of Feature Test set Before LDA: \", X_train.shape)\n",
    "print(\"Shape of Feature Test set After LDA: \", X_train_lda.shape)\n",
    "\n",
    "\n",
    "print(\"Shape of Feature Test set Before LDA: \", X_test.shape)\n",
    "print(\"Shape of Feature Test set After LDA: \", X_test_lda.shape)\n"
   ]
  },
  {
   "cell_type": "markdown",
   "metadata": {},
   "source": [
    "### 5.1 Applying LDA to Linear SVM"
   ]
  },
  {
   "cell_type": "code",
   "execution_count": 6,
   "metadata": {},
   "outputs": [
    {
     "name": "stdout",
     "output_type": "stream",
     "text": [
      "Test accuracy of Linear SVM After LDA:  89.33\n"
     ]
    }
   ],
   "source": [
    "###SVM - Linear\n",
    "\n",
    "svmclassifier = SVC(kernel='linear')\n",
    "svmclassifier.fit(X_train_lda, y_train)\n",
    "\n",
    "y_pred_svmlda = svmclassifier.predict(X_test_lda)\n",
    "\n",
    "test_acc_lda = accuracy_score(y_test,y_pred_svmlda)*100\n",
    "\n",
    "print(\"Test accuracy of Linear SVM After LDA: \",test_acc_lda)\n",
    "\n"
   ]
  },
  {
   "cell_type": "markdown",
   "metadata": {},
   "source": [
    "### 5.2 Applying LDA to Kernel SVM (for 1, 2, 3, 5 and 8 degree polynomials) "
   ]
  },
  {
   "cell_type": "code",
   "execution_count": 7,
   "metadata": {},
   "outputs": [
    {
     "name": "stdout",
     "output_type": "stream",
     "text": [
      "Test accuracy of Kernel SVM of degree 8 After LDA:  86.78\n"
     ]
    }
   ],
   "source": [
    "svmclassifier = SVC(kernel='poly', degree=8)\n",
    "svmclassifier.fit(X_train_lda, y_train)\n",
    "\n",
    "y_pred_svmlda = svmclassifier.predict(X_test_lda)\n",
    "\n",
    "test_acc_lda = accuracy_score(y_test,y_pred_svmlda)*100\n",
    "\n",
    "print(\"Test accuracy of Kernel SVM of degree 8 After LDA: \",test_acc_lda)\n",
    "\n"
   ]
  },
  {
   "cell_type": "code",
   "execution_count": 8,
   "metadata": {},
   "outputs": [
    {
     "name": "stdout",
     "output_type": "stream",
     "text": [
      "Test accuracy of Kernel SVM of degree 5 After LDA:  90.61\n"
     ]
    }
   ],
   "source": [
    "svmclassifier = SVC(kernel='poly', degree=5)\n",
    "svmclassifier.fit(X_train_lda, y_train)\n",
    "\n",
    "y_pred_svmlda = svmclassifier.predict(X_test_lda)\n",
    "\n",
    "test_acc_lda = accuracy_score(y_test,y_pred_svmlda)*100\n",
    "\n",
    "print(\"Test accuracy of Kernel SVM of degree 5 After LDA: \",test_acc_lda)\n",
    "\n"
   ]
  },
  {
   "cell_type": "code",
   "execution_count": 9,
   "metadata": {},
   "outputs": [
    {
     "name": "stdout",
     "output_type": "stream",
     "text": [
      "Test accuracy of Kernel SVM of degree 3 After LDA:  91.74\n"
     ]
    }
   ],
   "source": [
    "svmclassifier = SVC(kernel='poly', degree=3)\n",
    "svmclassifier.fit(X_train_lda, y_train)\n",
    "\n",
    "y_pred_svmlda = svmclassifier.predict(X_test_lda)\n",
    "\n",
    "test_acc_lda = accuracy_score(y_test,y_pred_svmlda)*100\n",
    "\n",
    "print(\"Test accuracy of Kernel SVM of degree 3 After LDA: \",test_acc_lda)\n",
    "\n"
   ]
  },
  {
   "cell_type": "code",
   "execution_count": 10,
   "metadata": {},
   "outputs": [
    {
     "name": "stdout",
     "output_type": "stream",
     "text": [
      "Test accuracy of Kernel SVM of degree 2 After LDA:  88.24\n"
     ]
    }
   ],
   "source": [
    "svmclassifier = SVC(kernel='poly', degree=2)\n",
    "svmclassifier.fit(X_train_lda, y_train)\n",
    "\n",
    "y_pred_svmlda = svmclassifier.predict(X_test_lda)\n",
    "\n",
    "test_acc_lda = accuracy_score(y_test,y_pred_svmlda)*100\n",
    "\n",
    "print(\"Test accuracy of Kernel SVM of degree 2 After LDA: \",test_acc_lda)\n",
    "\n"
   ]
  },
  {
   "cell_type": "code",
   "execution_count": 11,
   "metadata": {},
   "outputs": [
    {
     "name": "stdout",
     "output_type": "stream",
     "text": [
      "Test accuracy of Kernel SVM of degree 1 After LDA:  89.29\n"
     ]
    }
   ],
   "source": [
    "svmclassifier = SVC(kernel='poly', degree=1)\n",
    "svmclassifier.fit(X_train_lda, y_train)\n",
    "\n",
    "y_pred_svmlda = svmclassifier.predict(X_test_lda)\n",
    "\n",
    "test_acc_lda = accuracy_score(y_test,y_pred_svmlda)*100\n",
    "\n",
    "print(\"Test accuracy of Kernel SVM of degree 1 After LDA: \",test_acc_lda)\n",
    "\n"
   ]
  },
  {
   "cell_type": "markdown",
   "metadata": {},
   "source": [
    "### 5.3 Applying LDA to Radial Basis Function SVM Kernel"
   ]
  },
  {
   "cell_type": "code",
   "execution_count": 12,
   "metadata": {},
   "outputs": [
    {
     "name": "stdout",
     "output_type": "stream",
     "text": [
      "Test accuracy of RBF SVM After LDA:  92.55\n"
     ]
    }
   ],
   "source": [
    "svmclassifier = SVC(kernel='rbf')\n",
    "svmclassifier.fit(X_train_lda, y_train)\n",
    "\n",
    "y_pred_svmlda = svmclassifier.predict(X_test_lda)\n",
    "\n",
    "test_acc_lda = accuracy_score(y_test,y_pred_svmlda)*100\n",
    "\n",
    "print(\"Test accuracy of RBF SVM After LDA: \",test_acc_lda)\n"
   ]
  },
  {
   "cell_type": "markdown",
   "metadata": {},
   "source": [
    "### 6. APPLYING PCA TO TEST AND TRAIN"
   ]
  },
  {
   "cell_type": "markdown",
   "metadata": {},
   "source": [
    "### 6.1 PCA for n_components = 15"
   ]
  },
  {
   "cell_type": "code",
   "execution_count": 13,
   "metadata": {},
   "outputs": [
    {
     "name": "stdout",
     "output_type": "stream",
     "text": [
      "Shape of Feature Test set Before PCA:  (60000, 784)\n",
      "Shape of Feature Test set After PCA for n_components = 15:  (60000, 15)\n",
      "Shape of Feature Test set Before PCA:  (10000, 784)\n",
      "Shape of Feature Test set After PCA for n_components = 15:  (10000, 15)\n"
     ]
    }
   ],
   "source": [
    "### PCA\n",
    "\n",
    "pca = PCA(n_components=15)\n",
    "\n",
    "X_train_pca = pca.fit_transform(X_train)\n",
    "\n",
    "X_test_pca = pca.transform(X_test)\n",
    "\n",
    "print(\"Shape of Feature Test set Before PCA: \", X_train.shape)\n",
    "print(\"Shape of Feature Test set After PCA for n_components = 15: \", X_train_pca.shape)\n",
    "\n",
    "\n",
    "print(\"Shape of Feature Test set Before PCA: \", X_test.shape)\n",
    "print(\"Shape of Feature Test set After PCA for n_components = 15: \", X_test_pca.shape)\n"
   ]
  },
  {
   "cell_type": "markdown",
   "metadata": {},
   "source": [
    "### 6.1.1 Linear SVM"
   ]
  },
  {
   "cell_type": "code",
   "execution_count": 14,
   "metadata": {},
   "outputs": [
    {
     "name": "stdout",
     "output_type": "stream",
     "text": [
      "Test accuracy of Linear SVM After PCA for n_components = 15:  88.44999999999999\n"
     ]
    }
   ],
   "source": [
    "###SVM - Linear\n",
    "\n",
    "svmclassifier = SVC(kernel='linear')\n",
    "svmclassifier.fit(X_train_pca, y_train)\n",
    "\n",
    "y_pred_svmpca = svmclassifier.predict(X_test_pca)\n",
    "\n",
    "test_acc_pca = accuracy_score(y_test,y_pred_svmpca)*100\n",
    "\n",
    "print(\"Test accuracy of Linear SVM After PCA for n_components = 15: \",test_acc_pca)\n",
    "\n"
   ]
  },
  {
   "cell_type": "markdown",
   "metadata": {},
   "source": [
    "### 6.1.2 Kernel SVM for polnomial degree 8, 5, 3, 2, 1"
   ]
  },
  {
   "cell_type": "code",
   "execution_count": 15,
   "metadata": {},
   "outputs": [
    {
     "name": "stdout",
     "output_type": "stream",
     "text": [
      "Test accuracy of Kernel SVM of degree 8 After PCA for n_components = 15:  92.06\n"
     ]
    }
   ],
   "source": [
    "svmclassifier = SVC(kernel='poly', degree=8)\n",
    "svmclassifier.fit(X_train_pca, y_train)\n",
    "\n",
    "y_pred_svmpca = svmclassifier.predict(X_test_pca)\n",
    "\n",
    "test_acc_pca = accuracy_score(y_test,y_pred_svmpca)*100\n",
    "\n",
    "print(\"Test accuracy of Kernel SVM of degree 8 After PCA for n_components = 15: \",test_acc_pca)\n"
   ]
  },
  {
   "cell_type": "code",
   "execution_count": 16,
   "metadata": {},
   "outputs": [
    {
     "name": "stdout",
     "output_type": "stream",
     "text": [
      "Test accuracy of Kernel SVM of degree 5 After PCA for n_components = 15:  95.99\n"
     ]
    }
   ],
   "source": [
    "svmclassifier = SVC(kernel='poly', degree=5)\n",
    "svmclassifier.fit(X_train_pca, y_train)\n",
    "\n",
    "y_pred_svmpca = svmclassifier.predict(X_test_pca)\n",
    "\n",
    "test_acc_pca = accuracy_score(y_test,y_pred_svmpca)*100\n",
    "\n",
    "print(\"Test accuracy of Kernel SVM of degree 5 After PCA for n_components = 15: \",test_acc_pca)\n"
   ]
  },
  {
   "cell_type": "code",
   "execution_count": 17,
   "metadata": {},
   "outputs": [
    {
     "name": "stdout",
     "output_type": "stream",
     "text": [
      "Test accuracy of Kernel SVM of degree 3 After PCA for n_components = 15:  96.67999999999999\n"
     ]
    }
   ],
   "source": [
    "svmclassifier = SVC(kernel='poly', degree=3)\n",
    "svmclassifier.fit(X_train_pca, y_train)\n",
    "\n",
    "y_pred_svmpca = svmclassifier.predict(X_test_pca)\n",
    "\n",
    "test_acc_pca = accuracy_score(y_test,y_pred_svmpca)*100\n",
    "\n",
    "print(\"Test accuracy of Kernel SVM of degree 3 After PCA for n_components = 15: \",test_acc_pca)\n"
   ]
  },
  {
   "cell_type": "code",
   "execution_count": 18,
   "metadata": {},
   "outputs": [
    {
     "name": "stdout",
     "output_type": "stream",
     "text": [
      "Test accuracy of Kernel SVM of degree 2 After PCA for n_components = 15:  94.39\n"
     ]
    }
   ],
   "source": [
    "svmclassifier = SVC(kernel='poly', degree=2)\n",
    "svmclassifier.fit(X_train_pca, y_train)\n",
    "\n",
    "y_pred_svmpca = svmclassifier.predict(X_test_pca)\n",
    "\n",
    "test_acc_pca = accuracy_score(y_test,y_pred_svmpca)*100\n",
    "\n",
    "print(\"Test accuracy of Kernel SVM of degree 2 After PCA for n_components = 15: \",test_acc_pca)\n"
   ]
  },
  {
   "cell_type": "code",
   "execution_count": 19,
   "metadata": {},
   "outputs": [
    {
     "name": "stdout",
     "output_type": "stream",
     "text": [
      "Test accuracy of Kernel SVM of degree 1 After PCA for n_components = 15:  88.38000000000001\n"
     ]
    }
   ],
   "source": [
    "svmclassifier = SVC(kernel='poly', degree=1)\n",
    "svmclassifier.fit(X_train_pca, y_train)\n",
    "\n",
    "y_pred_svmpca = svmclassifier.predict(X_test_pca)\n",
    "\n",
    "test_acc_pca = accuracy_score(y_test,y_pred_svmpca)*100\n",
    "\n",
    "print(\"Test accuracy of Kernel SVM of degree 1 After PCA for n_components = 15: \",test_acc_pca)\n"
   ]
  },
  {
   "cell_type": "markdown",
   "metadata": {},
   "source": [
    "### 6.1.3 RBF SVM"
   ]
  },
  {
   "cell_type": "code",
   "execution_count": 20,
   "metadata": {},
   "outputs": [
    {
     "name": "stdout",
     "output_type": "stream",
     "text": [
      "Test accuracy of RBF SVM After PCA for n_components = 15:  97.07000000000001\n"
     ]
    }
   ],
   "source": [
    "svmclassifier = SVC(kernel='rbf')\n",
    "svmclassifier.fit(X_train_pca, y_train)\n",
    "\n",
    "y_pred_svmpca = svmclassifier.predict(X_test_pca)\n",
    "\n",
    "test_acc_pca = accuracy_score(y_test,y_pred_svmpca)*100\n",
    "\n",
    "print(\"Test accuracy of RBF SVM After PCA for n_components = 15: \",test_acc_pca)\n"
   ]
  },
  {
   "cell_type": "markdown",
   "metadata": {},
   "source": [
    "### 6.2 PCA for n_components = 30"
   ]
  },
  {
   "cell_type": "code",
   "execution_count": 21,
   "metadata": {},
   "outputs": [
    {
     "name": "stdout",
     "output_type": "stream",
     "text": [
      "Shape of Feature Test set Before PCA:  (60000, 784)\n",
      "Shape of Feature Test set After PCA for n_components = 30:  (60000, 30)\n",
      "Shape of Feature Test set Before PCA:  (10000, 784)\n",
      "Shape of Feature Test set After PCA for n_components = 30:  (10000, 30)\n"
     ]
    }
   ],
   "source": [
    "### PCA\n",
    "\n",
    "pca = PCA(n_components=30)\n",
    "\n",
    "X_train_pca = pca.fit_transform(X_train)\n",
    "\n",
    "X_test_pca = pca.transform(X_test)\n",
    "\n",
    "print(\"Shape of Feature Test set Before PCA: \", X_train.shape)\n",
    "print(\"Shape of Feature Test set After PCA for n_components = 30: \", X_train_pca.shape)\n",
    "\n",
    "\n",
    "print(\"Shape of Feature Test set Before PCA: \", X_test.shape)\n",
    "print(\"Shape of Feature Test set After PCA for n_components = 30: \", X_test_pca.shape)\n"
   ]
  },
  {
   "cell_type": "markdown",
   "metadata": {},
   "source": [
    "### 6.2.1 Linear SVM "
   ]
  },
  {
   "cell_type": "code",
   "execution_count": 22,
   "metadata": {},
   "outputs": [
    {
     "name": "stdout",
     "output_type": "stream",
     "text": [
      "Test accuracy of Linear SVM After PCA for n_components = 30:  92.49000000000001\n"
     ]
    }
   ],
   "source": [
    "###SVM - Linear\n",
    "\n",
    "svmclassifier = SVC(kernel='linear')\n",
    "svmclassifier.fit(X_train_pca, y_train)\n",
    "\n",
    "y_pred_svmpca = svmclassifier.predict(X_test_pca)\n",
    "\n",
    "test_acc_pca = accuracy_score(y_test,y_pred_svmpca)*100\n",
    "\n",
    "print(\"Test accuracy of Linear SVM After PCA for n_components = 30: \",test_acc_pca)\n",
    "\n"
   ]
  },
  {
   "cell_type": "markdown",
   "metadata": {},
   "source": [
    "### 6.2.2 Kernel SVM for polnomial degree 8, 5, 3, 2, 1"
   ]
  },
  {
   "cell_type": "code",
   "execution_count": 23,
   "metadata": {},
   "outputs": [
    {
     "name": "stdout",
     "output_type": "stream",
     "text": [
      "Test accuracy of Kernel SVM of degree 8 After PCA for n_components = 30:  93.02\n"
     ]
    }
   ],
   "source": [
    "svmclassifier = SVC(kernel='poly', degree=8)\n",
    "svmclassifier.fit(X_train_pca, y_train)\n",
    "\n",
    "y_pred_svmpca = svmclassifier.predict(X_test_pca)\n",
    "\n",
    "test_acc_pca = accuracy_score(y_test,y_pred_svmpca)*100\n",
    "\n",
    "print(\"Test accuracy of Kernel SVM of degree 8 After PCA for n_components = 30: \",test_acc_pca)\n",
    "\n"
   ]
  },
  {
   "cell_type": "code",
   "execution_count": 24,
   "metadata": {},
   "outputs": [
    {
     "name": "stdout",
     "output_type": "stream",
     "text": [
      "Test accuracy of Kernel SVM of degree 5 After PCA for n_components = 30:  97.71\n"
     ]
    }
   ],
   "source": [
    "svmclassifier = SVC(kernel='poly', degree=5)\n",
    "svmclassifier.fit(X_train_pca, y_train)\n",
    "\n",
    "y_pred_svmpca = svmclassifier.predict(X_test_pca)\n",
    "\n",
    "test_acc_pca = accuracy_score(y_test,y_pred_svmpca)*100\n",
    "\n",
    "print(\"Test accuracy of Kernel SVM of degree 5 After PCA for n_components = 30: \",test_acc_pca)\n",
    "\n"
   ]
  },
  {
   "cell_type": "code",
   "execution_count": 25,
   "metadata": {},
   "outputs": [
    {
     "name": "stdout",
     "output_type": "stream",
     "text": [
      "Test accuracy of Kernel SVM of degree 3 After PCA for n_components = 30:  98.09\n"
     ]
    }
   ],
   "source": [
    "svmclassifier = SVC(kernel='poly', degree=3)\n",
    "svmclassifier.fit(X_train_pca, y_train)\n",
    "\n",
    "y_pred_svmpca = svmclassifier.predict(X_test_pca)\n",
    "\n",
    "test_acc_pca = accuracy_score(y_test,y_pred_svmpca)*100\n",
    "\n",
    "print(\"Test accuracy of Kernel SVM of degree 3 After PCA for n_components = 30: \",test_acc_pca)\n",
    "\n"
   ]
  },
  {
   "cell_type": "code",
   "execution_count": 26,
   "metadata": {},
   "outputs": [
    {
     "name": "stdout",
     "output_type": "stream",
     "text": [
      "Test accuracy of Kernel SVM of degree 2 After PCA for n_components = 30:  97.78\n"
     ]
    }
   ],
   "source": [
    "svmclassifier = SVC(kernel='poly', degree=2)\n",
    "svmclassifier.fit(X_train_pca, y_train)\n",
    "\n",
    "y_pred_svmpca = svmclassifier.predict(X_test_pca)\n",
    "\n",
    "test_acc_pca = accuracy_score(y_test,y_pred_svmpca)*100\n",
    "\n",
    "print(\"Test accuracy of Kernel SVM of degree 2 After PCA for n_components = 30: \",test_acc_pca)\n",
    "\n"
   ]
  },
  {
   "cell_type": "code",
   "execution_count": 27,
   "metadata": {},
   "outputs": [
    {
     "name": "stdout",
     "output_type": "stream",
     "text": [
      "Test accuracy of Kernel SVM of degree 1 After PCA for n_components = 30:  92.41\n"
     ]
    }
   ],
   "source": [
    "svmclassifier = SVC(kernel='poly', degree=1)\n",
    "svmclassifier.fit(X_train_pca, y_train)\n",
    "\n",
    "y_pred_svmpca = svmclassifier.predict(X_test_pca)\n",
    "\n",
    "test_acc_pca = accuracy_score(y_test,y_pred_svmpca)*100\n",
    "\n",
    "print(\"Test accuracy of Kernel SVM of degree 1 After PCA for n_components = 30: \",test_acc_pca)\n",
    "\n"
   ]
  },
  {
   "cell_type": "markdown",
   "metadata": {},
   "source": [
    "### 6.2.3 RBF SVM"
   ]
  },
  {
   "cell_type": "code",
   "execution_count": 28,
   "metadata": {},
   "outputs": [
    {
     "name": "stdout",
     "output_type": "stream",
     "text": [
      "Test accuracy of RBF SVM After PCA for n_components = 30:  98.21\n"
     ]
    }
   ],
   "source": [
    "svmclassifier = SVC(kernel='rbf')\n",
    "svmclassifier.fit(X_train_pca, y_train)\n",
    "\n",
    "y_pred_svmpca = svmclassifier.predict(X_test_pca)\n",
    "\n",
    "test_acc_pca = accuracy_score(y_test,y_pred_svmpca)*100\n",
    "\n",
    "print(\"Test accuracy of RBF SVM After PCA for n_components = 30: \",test_acc_pca)\n"
   ]
  },
  {
   "cell_type": "markdown",
   "metadata": {},
   "source": [
    "### 6.3 PCA for n_components = 50"
   ]
  },
  {
   "cell_type": "code",
   "execution_count": 29,
   "metadata": {},
   "outputs": [
    {
     "name": "stdout",
     "output_type": "stream",
     "text": [
      "Shape of Feature Test set Before PCA:  (60000, 784)\n",
      "Shape of Feature Test set After PCA for n_components = 50:  (60000, 50)\n",
      "Shape of Feature Test set Before PCA:  (10000, 784)\n",
      "Shape of Feature Test set After PCA for n_components = 50:  (10000, 50)\n"
     ]
    }
   ],
   "source": [
    "### PCA\n",
    "\n",
    "pca = PCA(n_components=50)\n",
    "\n",
    "X_train_pca = pca.fit_transform(X_train)\n",
    "\n",
    "X_test_pca = pca.transform(X_test)\n",
    "\n",
    "print(\"Shape of Feature Test set Before PCA: \", X_train.shape)\n",
    "print(\"Shape of Feature Test set After PCA for n_components = 50: \", X_train_pca.shape)\n",
    "\n",
    "\n",
    "print(\"Shape of Feature Test set Before PCA: \", X_test.shape)\n",
    "print(\"Shape of Feature Test set After PCA for n_components = 50: \", X_test_pca.shape)\n"
   ]
  },
  {
   "cell_type": "markdown",
   "metadata": {},
   "source": [
    "### 6.3.1 Linear SVM "
   ]
  },
  {
   "cell_type": "code",
   "execution_count": 30,
   "metadata": {},
   "outputs": [
    {
     "name": "stdout",
     "output_type": "stream",
     "text": [
      "Test accuracy of Linear SVM After PCA for n_components = 50:  93.76\n"
     ]
    }
   ],
   "source": [
    "###SVM - Linear\n",
    "\n",
    "svmclassifier = SVC(kernel='linear')\n",
    "svmclassifier.fit(X_train_pca, y_train)\n",
    "\n",
    "y_pred_svmpca = svmclassifier.predict(X_test_pca)\n",
    "\n",
    "test_acc_pca = accuracy_score(y_test,y_pred_svmpca)*100\n",
    "\n",
    "print(\"Test accuracy of Linear SVM After PCA for n_components = 50: \",test_acc_pca)\n",
    "\n"
   ]
  },
  {
   "cell_type": "markdown",
   "metadata": {},
   "source": [
    "### 6.3.2 Kernel SVM for polnomial degree 8, 5, 3, 2, 1"
   ]
  },
  {
   "cell_type": "code",
   "execution_count": 31,
   "metadata": {},
   "outputs": [
    {
     "name": "stdout",
     "output_type": "stream",
     "text": [
      "Test accuracy of Kernel SVM of degree 8 After PCA for n_components = 50:  85.05\n"
     ]
    }
   ],
   "source": [
    "svmclassifier = SVC(kernel='poly', degree=8)\n",
    "svmclassifier.fit(X_train_pca, y_train)\n",
    "\n",
    "y_pred_svmpca = svmclassifier.predict(X_test_pca)\n",
    "\n",
    "test_acc_pca = accuracy_score(y_test,y_pred_svmpca)*100\n",
    "\n",
    "print(\"Test accuracy of Kernel SVM of degree 8 After PCA for n_components = 50: \",test_acc_pca)\n",
    "\n"
   ]
  },
  {
   "cell_type": "code",
   "execution_count": 32,
   "metadata": {},
   "outputs": [
    {
     "name": "stdout",
     "output_type": "stream",
     "text": [
      "Test accuracy of Kernel SVM of degree 5 After PCA for n_components = 50:  96.77\n"
     ]
    }
   ],
   "source": [
    "svmclassifier = SVC(kernel='poly', degree=5)\n",
    "svmclassifier.fit(X_train_pca, y_train)\n",
    "\n",
    "y_pred_svmpca = svmclassifier.predict(X_test_pca)\n",
    "\n",
    "test_acc_pca = accuracy_score(y_test,y_pred_svmpca)*100\n",
    "\n",
    "print(\"Test accuracy of Kernel SVM of degree 5 After PCA for n_components = 50: \",test_acc_pca)\n",
    "\n"
   ]
  },
  {
   "cell_type": "code",
   "execution_count": 33,
   "metadata": {},
   "outputs": [
    {
     "name": "stdout",
     "output_type": "stream",
     "text": [
      "Test accuracy of Kernel SVM of degree 3 After PCA for n_components = 50:  98.14\n"
     ]
    }
   ],
   "source": [
    "svmclassifier = SVC(kernel='poly', degree=3)\n",
    "svmclassifier.fit(X_train_pca, y_train)\n",
    "\n",
    "y_pred_svmpca = svmclassifier.predict(X_test_pca)\n",
    "\n",
    "test_acc_pca = accuracy_score(y_test,y_pred_svmpca)*100\n",
    "\n",
    "print(\"Test accuracy of Kernel SVM of degree 3 After PCA for n_components = 50: \",test_acc_pca)\n",
    "\n"
   ]
  },
  {
   "cell_type": "code",
   "execution_count": 34,
   "metadata": {},
   "outputs": [
    {
     "name": "stdout",
     "output_type": "stream",
     "text": [
      "Test accuracy of Kernel SVM of degree 2 After PCA for n_components = 50:  98.06\n"
     ]
    }
   ],
   "source": [
    "svmclassifier = SVC(kernel='poly', degree=2)\n",
    "svmclassifier.fit(X_train_pca, y_train)\n",
    "\n",
    "y_pred_svmpca = svmclassifier.predict(X_test_pca)\n",
    "\n",
    "test_acc_pca = accuracy_score(y_test,y_pred_svmpca)*100\n",
    "\n",
    "print(\"Test accuracy of Kernel SVM of degree 2 After PCA for n_components = 50: \",test_acc_pca)\n",
    "\n"
   ]
  },
  {
   "cell_type": "code",
   "execution_count": 35,
   "metadata": {},
   "outputs": [
    {
     "name": "stdout",
     "output_type": "stream",
     "text": [
      "Test accuracy of Kernel SVM of degree 1 After PCA for n_components = 50:  93.7\n"
     ]
    }
   ],
   "source": [
    "svmclassifier = SVC(kernel='poly', degree=1)\n",
    "svmclassifier.fit(X_train_pca, y_train)\n",
    "\n",
    "y_pred_svmpca = svmclassifier.predict(X_test_pca)\n",
    "\n",
    "test_acc_pca = accuracy_score(y_test,y_pred_svmpca)*100\n",
    "\n",
    "print(\"Test accuracy of Kernel SVM of degree 1 After PCA for n_components = 50: \",test_acc_pca)\n",
    "\n"
   ]
  },
  {
   "cell_type": "markdown",
   "metadata": {},
   "source": [
    "### 6.3.3 RBF SVM"
   ]
  },
  {
   "cell_type": "code",
   "execution_count": 36,
   "metadata": {},
   "outputs": [
    {
     "name": "stdout",
     "output_type": "stream",
     "text": [
      "Test accuracy of RBF SVM After PCA for n_components = 50:  98.26\n"
     ]
    }
   ],
   "source": [
    "svmclassifier = SVC(kernel='rbf')\n",
    "svmclassifier.fit(X_train_pca, y_train)\n",
    "\n",
    "y_pred_svmpca = svmclassifier.predict(X_test_pca)\n",
    "\n",
    "test_acc_pca = accuracy_score(y_test,y_pred_svmpca)*100\n",
    "\n",
    "print(\"Test accuracy of RBF SVM After PCA for n_components = 50: \",test_acc_pca)\n"
   ]
  },
  {
   "cell_type": "markdown",
   "metadata": {},
   "source": [
    "### 6.4 PCA for n_components = 75"
   ]
  },
  {
   "cell_type": "code",
   "execution_count": 37,
   "metadata": {},
   "outputs": [
    {
     "name": "stdout",
     "output_type": "stream",
     "text": [
      "Shape of Feature Test set Before PCA:  (60000, 784)\n",
      "Shape of Feature Test set After PCA for n_components = 75:  (60000, 75)\n",
      "Shape of Feature Test set Before PCA:  (10000, 784)\n",
      "Shape of Feature Test set After PCA for n_components = 75:  (10000, 75)\n"
     ]
    }
   ],
   "source": [
    "### PCA\n",
    "\n",
    "pca = PCA(n_components=75)\n",
    "\n",
    "X_train_pca = pca.fit_transform(X_train)\n",
    "\n",
    "X_test_pca = pca.transform(X_test)\n",
    "\n",
    "print(\"Shape of Feature Test set Before PCA: \", X_train.shape)\n",
    "print(\"Shape of Feature Test set After PCA for n_components = 75: \", X_train_pca.shape)\n",
    "\n",
    "\n",
    "print(\"Shape of Feature Test set Before PCA: \", X_test.shape)\n",
    "print(\"Shape of Feature Test set After PCA for n_components = 75: \", X_test_pca.shape)\n"
   ]
  },
  {
   "cell_type": "markdown",
   "metadata": {},
   "source": [
    "### 6.4.1 Linear SVM"
   ]
  },
  {
   "cell_type": "code",
   "execution_count": 38,
   "metadata": {},
   "outputs": [
    {
     "name": "stdout",
     "output_type": "stream",
     "text": [
      "Test accuracy of Linear SVM After PCA for n_components = 75:  94.28\n"
     ]
    }
   ],
   "source": [
    "###SVM - Linear\n",
    "\n",
    "svmclassifier = SVC(kernel='linear')\n",
    "svmclassifier.fit(X_train_pca, y_train)\n",
    "\n",
    "y_pred_svmpca = svmclassifier.predict(X_test_pca)\n",
    "\n",
    "test_acc_pca = accuracy_score(y_test,y_pred_svmpca)*100\n",
    "\n",
    "print(\"Test accuracy of Linear SVM After PCA for n_components = 75: \",test_acc_pca)\n",
    "\n"
   ]
  },
  {
   "cell_type": "markdown",
   "metadata": {},
   "source": [
    "### 6.4.2 Kernel SVM for polnomial degree 8, 5, 3, 2, 1"
   ]
  },
  {
   "cell_type": "code",
   "execution_count": 39,
   "metadata": {},
   "outputs": [
    {
     "name": "stdout",
     "output_type": "stream",
     "text": [
      "Test accuracy of Kernel SVM of degree 8 After PCA for n_components = 75:  50.580000000000005\n"
     ]
    }
   ],
   "source": [
    "svmclassifier = SVC(kernel='poly', degree=8)\n",
    "svmclassifier.fit(X_train_pca, y_train)\n",
    "\n",
    "y_pred_svmpca = svmclassifier.predict(X_test_pca)\n",
    "\n",
    "test_acc_pca = accuracy_score(y_test,y_pred_svmpca)*100\n",
    "\n",
    "print(\"Test accuracy of Kernel SVM of degree 8 After PCA for n_components = 75: \",test_acc_pca)\n",
    "\n"
   ]
  },
  {
   "cell_type": "code",
   "execution_count": 40,
   "metadata": {},
   "outputs": [
    {
     "name": "stdout",
     "output_type": "stream",
     "text": [
      "Test accuracy of Kernel SVM of degree 5 After PCA for n_components = 75:  92.72\n"
     ]
    }
   ],
   "source": [
    "svmclassifier = SVC(kernel='poly', degree=5)\n",
    "svmclassifier.fit(X_train_pca, y_train)\n",
    "\n",
    "y_pred_svmpca = svmclassifier.predict(X_test_pca)\n",
    "\n",
    "test_acc_pca = accuracy_score(y_test,y_pred_svmpca)*100\n",
    "\n",
    "print(\"Test accuracy of Kernel SVM of degree 5 After PCA for n_components = 75: \",test_acc_pca)\n",
    "\n"
   ]
  },
  {
   "cell_type": "code",
   "execution_count": 41,
   "metadata": {},
   "outputs": [
    {
     "name": "stdout",
     "output_type": "stream",
     "text": [
      "Test accuracy of Kernel SVM of degree 3 After PCA for n_components = 75:  97.67\n"
     ]
    }
   ],
   "source": [
    "svmclassifier = SVC(kernel='poly', degree=3)\n",
    "svmclassifier.fit(X_train_pca, y_train)\n",
    "\n",
    "y_pred_svmpca = svmclassifier.predict(X_test_pca)\n",
    "\n",
    "test_acc_pca = accuracy_score(y_test,y_pred_svmpca)*100\n",
    "\n",
    "print(\"Test accuracy of Kernel SVM of degree 3 After PCA for n_components = 75: \",test_acc_pca)\n",
    "\n"
   ]
  },
  {
   "cell_type": "code",
   "execution_count": 42,
   "metadata": {},
   "outputs": [
    {
     "name": "stdout",
     "output_type": "stream",
     "text": [
      "Test accuracy of Kernel SVM of degree 2 After PCA for n_components = 75:  97.91\n"
     ]
    }
   ],
   "source": [
    "svmclassifier = SVC(kernel='poly', degree=2)\n",
    "svmclassifier.fit(X_train_pca, y_train)\n",
    "\n",
    "y_pred_svmpca = svmclassifier.predict(X_test_pca)\n",
    "\n",
    "test_acc_pca = accuracy_score(y_test,y_pred_svmpca)*100\n",
    "\n",
    "print(\"Test accuracy of Kernel SVM of degree 2 After PCA for n_components = 75: \",test_acc_pca)\n",
    "\n"
   ]
  },
  {
   "cell_type": "code",
   "execution_count": 43,
   "metadata": {},
   "outputs": [
    {
     "name": "stdout",
     "output_type": "stream",
     "text": [
      "Test accuracy of Kernel SVM of degree 1 After PCA for n_components = 75:  94.06\n"
     ]
    }
   ],
   "source": [
    "svmclassifier = SVC(kernel='poly', degree=1)\n",
    "svmclassifier.fit(X_train_pca, y_train)\n",
    "\n",
    "y_pred_svmpca = svmclassifier.predict(X_test_pca)\n",
    "\n",
    "test_acc_pca = accuracy_score(y_test,y_pred_svmpca)*100\n",
    "\n",
    "print(\"Test accuracy of Kernel SVM of degree 1 After PCA for n_components = 75: \",test_acc_pca)\n",
    "\n"
   ]
  },
  {
   "cell_type": "markdown",
   "metadata": {},
   "source": [
    "### 6.4.3 RBF SVM"
   ]
  },
  {
   "cell_type": "code",
   "execution_count": 44,
   "metadata": {},
   "outputs": [
    {
     "name": "stdout",
     "output_type": "stream",
     "text": [
      "Test accuracy of RBF SVM After PCA for n_components = 75:  98.0\n"
     ]
    }
   ],
   "source": [
    "svmclassifier = SVC(kernel='rbf')\n",
    "svmclassifier.fit(X_train_pca, y_train)\n",
    "\n",
    "y_pred_svmpca = svmclassifier.predict(X_test_pca)\n",
    "\n",
    "test_acc_pca = accuracy_score(y_test,y_pred_svmpca)*100\n",
    "\n",
    "print(\"Test accuracy of RBF SVM After PCA for n_components = 75: \",test_acc_pca)\n"
   ]
  },
  {
   "cell_type": "markdown",
   "metadata": {},
   "source": [
    "### 6.5 PCA for n_components = 100"
   ]
  },
  {
   "cell_type": "code",
   "execution_count": 45,
   "metadata": {},
   "outputs": [
    {
     "name": "stdout",
     "output_type": "stream",
     "text": [
      "Shape of Feature Test set Before PCA:  (60000, 784)\n",
      "Shape of Feature Test set After PCA for n_components = 100:  (60000, 100)\n",
      "Shape of Feature Test set Before PCA:  (10000, 784)\n",
      "Shape of Feature Test set After PCA for n_components = 100:  (10000, 100)\n"
     ]
    }
   ],
   "source": [
    "### PCA\n",
    "\n",
    "pca = PCA(n_components=100)\n",
    "\n",
    "X_train_pca = pca.fit_transform(X_train)\n",
    "\n",
    "X_test_pca = pca.transform(X_test)\n",
    "\n",
    "print(\"Shape of Feature Test set Before PCA: \", X_train.shape)\n",
    "print(\"Shape of Feature Test set After PCA for n_components = 100: \", X_train_pca.shape)\n",
    "\n",
    "\n",
    "print(\"Shape of Feature Test set Before PCA: \", X_test.shape)\n",
    "print(\"Shape of Feature Test set After PCA for n_components = 100: \", X_test_pca.shape)\n"
   ]
  },
  {
   "cell_type": "markdown",
   "metadata": {},
   "source": [
    "### 6.5.1 Linear SVM"
   ]
  },
  {
   "cell_type": "code",
   "execution_count": 46,
   "metadata": {},
   "outputs": [
    {
     "name": "stdout",
     "output_type": "stream",
     "text": [
      "Test accuracy of Linear SVM After PCA for n_components = 100:  94.38\n"
     ]
    }
   ],
   "source": [
    "###SVM - Linear\n",
    "\n",
    "svmclassifier = SVC(kernel='linear')\n",
    "svmclassifier.fit(X_train_pca, y_train)\n",
    "\n",
    "y_pred_svmpca = svmclassifier.predict(X_test_pca)\n",
    "\n",
    "test_acc_pca = accuracy_score(y_test,y_pred_svmpca)*100\n",
    "\n",
    "print(\"Test accuracy of Linear SVM After PCA for n_components = 100: \",test_acc_pca)\n",
    "\n"
   ]
  },
  {
   "cell_type": "markdown",
   "metadata": {},
   "source": [
    "### 6.5.2 Kernel SVM for polnomial degree 8, 5, 3, 2, 1"
   ]
  },
  {
   "cell_type": "code",
   "execution_count": 47,
   "metadata": {},
   "outputs": [
    {
     "name": "stdout",
     "output_type": "stream",
     "text": [
      "Test accuracy of Kernel SVM of degree 8 After PCA for n_components = 100:  19.08\n"
     ]
    }
   ],
   "source": [
    "svmclassifier = SVC(kernel='poly', degree=8)\n",
    "svmclassifier.fit(X_train_pca, y_train)\n",
    "\n",
    "y_pred_svmpca = svmclassifier.predict(X_test_pca)\n",
    "\n",
    "test_acc_pca = accuracy_score(y_test,y_pred_svmpca)*100\n",
    "\n",
    "print(\"Test accuracy of Kernel SVM of degree 8 After PCA for n_components = 100: \",test_acc_pca)\n",
    "\n"
   ]
  },
  {
   "cell_type": "code",
   "execution_count": 48,
   "metadata": {},
   "outputs": [
    {
     "name": "stdout",
     "output_type": "stream",
     "text": [
      "Test accuracy of Kernel SVM of degree 5 After PCA for n_components = 100:  82.57\n"
     ]
    }
   ],
   "source": [
    "svmclassifier = SVC(kernel='poly', degree=5)\n",
    "svmclassifier.fit(X_train_pca, y_train)\n",
    "\n",
    "y_pred_svmpca = svmclassifier.predict(X_test_pca)\n",
    "\n",
    "test_acc_pca = accuracy_score(y_test,y_pred_svmpca)*100\n",
    "\n",
    "print(\"Test accuracy of Kernel SVM of degree 5 After PCA for n_components = 100: \",test_acc_pca)\n",
    "\n"
   ]
  },
  {
   "cell_type": "code",
   "execution_count": 49,
   "metadata": {},
   "outputs": [
    {
     "name": "stdout",
     "output_type": "stream",
     "text": [
      "Test accuracy of Kernel SVM of degree 3 After PCA for n_components = 100:  97.13000000000001\n"
     ]
    }
   ],
   "source": [
    "svmclassifier = SVC(kernel='poly', degree=3)\n",
    "svmclassifier.fit(X_train_pca, y_train)\n",
    "\n",
    "y_pred_svmpca = svmclassifier.predict(X_test_pca)\n",
    "\n",
    "test_acc_pca = accuracy_score(y_test,y_pred_svmpca)*100\n",
    "\n",
    "print(\"Test accuracy of Kernel SVM of degree 3 After PCA for n_components = 100: \",test_acc_pca)\n",
    "\n"
   ]
  },
  {
   "cell_type": "code",
   "execution_count": 50,
   "metadata": {},
   "outputs": [
    {
     "name": "stdout",
     "output_type": "stream",
     "text": [
      "Test accuracy of Kernel SVM of degree 2 After PCA for n_components = 100:  97.74000000000001\n"
     ]
    }
   ],
   "source": [
    "svmclassifier = SVC(kernel='poly', degree=2)\n",
    "svmclassifier.fit(X_train_pca, y_train)\n",
    "\n",
    "y_pred_svmpca = svmclassifier.predict(X_test_pca)\n",
    "\n",
    "test_acc_pca = accuracy_score(y_test,y_pred_svmpca)*100\n",
    "\n",
    "print(\"Test accuracy of Kernel SVM of degree 2 After PCA for n_components = 100: \",test_acc_pca)\n",
    "\n"
   ]
  },
  {
   "cell_type": "code",
   "execution_count": 51,
   "metadata": {},
   "outputs": [
    {
     "name": "stdout",
     "output_type": "stream",
     "text": [
      "Test accuracy of Kernel SVM of degree 1 After PCA for n_components = 100:  94.25\n"
     ]
    }
   ],
   "source": [
    "svmclassifier = SVC(kernel='poly', degree=1)\n",
    "svmclassifier.fit(X_train_pca, y_train)\n",
    "\n",
    "y_pred_svmpca = svmclassifier.predict(X_test_pca)\n",
    "\n",
    "test_acc_pca = accuracy_score(y_test,y_pred_svmpca)*100\n",
    "\n",
    "print(\"Test accuracy of Kernel SVM of degree 1 After PCA for n_components = 100: \",test_acc_pca)\n",
    "\n"
   ]
  },
  {
   "cell_type": "markdown",
   "metadata": {},
   "source": [
    "### 6.5.3 RBF SVM"
   ]
  },
  {
   "cell_type": "code",
   "execution_count": 52,
   "metadata": {},
   "outputs": [
    {
     "name": "stdout",
     "output_type": "stream",
     "text": [
      "Test accuracy of RBF SVM After PCA for n_components = 100:  97.74000000000001\n"
     ]
    }
   ],
   "source": [
    "svmclassifier = SVC(kernel='rbf')\n",
    "svmclassifier.fit(X_train_pca, y_train)\n",
    "\n",
    "y_pred_svmpca = svmclassifier.predict(X_test_pca)\n",
    "\n",
    "test_acc_pca = accuracy_score(y_test,y_pred_svmpca)*100\n",
    "\n",
    "print(\"Test accuracy of RBF SVM After PCA for n_components = 100: \",test_acc_pca)\n"
   ]
  },
  {
   "cell_type": "markdown",
   "metadata": {},
   "source": [
    "### 7. SVM without PCA or LDA"
   ]
  },
  {
   "cell_type": "markdown",
   "metadata": {},
   "source": [
    "### 7.1 Linear SVM without PCA or LDA"
   ]
  },
  {
   "cell_type": "code",
   "execution_count": 53,
   "metadata": {},
   "outputs": [
    {
     "name": "stdout",
     "output_type": "stream",
     "text": [
      "Test accuracy of Linear SVM without PCA and LDA:  94.04\n"
     ]
    }
   ],
   "source": [
    "### Without PCA or LDA\n",
    "\n",
    "svmclassifier = SVC(kernel='linear')\n",
    "svmclassifier.fit(X_train, y_train)\n",
    "\n",
    "y_pred_svm = svmclassifier.predict(X_test)\n",
    "\n",
    "test_acc = accuracy_score(y_test,y_pred_svm)*100\n",
    "\n",
    "print(\"Test accuracy of Linear SVM without PCA and LDA: \",test_acc)\n"
   ]
  },
  {
   "cell_type": "markdown",
   "metadata": {},
   "source": [
    "### 7.2 Kernel SVM without PCA or LDA (for 1, 2, 3, 5 and 8 degree polynomials) "
   ]
  },
  {
   "cell_type": "code",
   "execution_count": 54,
   "metadata": {},
   "outputs": [
    {
     "name": "stdout",
     "output_type": "stream",
     "text": [
      "Test accuracy of Kernal SVM without PCA or LDA for 8 degree polynomial:  11.35\n"
     ]
    }
   ],
   "source": [
    "svmclassifier = SVC(kernel='poly', degree=8)\n",
    "svmclassifier.fit(X_train, y_train)\n",
    "\n",
    "y_pred_svm = svmclassifier.predict(X_test)\n",
    "\n",
    "test_acc = accuracy_score(y_test,y_pred_svm)*100\n",
    "\n",
    "print(\"Test accuracy of Kernal SVM without PCA or LDA for 8 degree polynomial: \",test_acc)\n",
    "\n"
   ]
  },
  {
   "cell_type": "code",
   "execution_count": 55,
   "metadata": {},
   "outputs": [
    {
     "name": "stdout",
     "output_type": "stream",
     "text": [
      "Test accuracy of Kernal SVM without PCA or LDA for 5 degree polynmial:  11.35\n"
     ]
    }
   ],
   "source": [
    "svmclassifier = SVC(kernel='poly', degree=5)\n",
    "svmclassifier.fit(X_train, y_train)\n",
    "\n",
    "y_pred_svm = svmclassifier.predict(X_test)\n",
    "\n",
    "test_acc = accuracy_score(y_test,y_pred_svm)*100\n",
    "\n",
    "print(\"Test accuracy of Kernal SVM without PCA or LDA for 5 degree polynmial: \",test_acc)\n",
    "\n"
   ]
  },
  {
   "cell_type": "code",
   "execution_count": 56,
   "metadata": {},
   "outputs": [
    {
     "name": "stdout",
     "output_type": "stream",
     "text": [
      "Test accuracy of Kernal SVM without PCA or LDA for 3 degree polynomial:  58.67\n"
     ]
    }
   ],
   "source": [
    "svmclassifier = SVC(kernel='poly', degree=3)\n",
    "svmclassifier.fit(X_train, y_train)\n",
    "\n",
    "y_pred_svm = svmclassifier.predict(X_test)\n",
    "\n",
    "test_acc = accuracy_score(y_test,y_pred_svm)*100\n",
    "\n",
    "print(\"Test accuracy of Kernal SVM without PCA or LDA for 3 degree polynomial: \",test_acc)\n",
    "\n"
   ]
  },
  {
   "cell_type": "code",
   "execution_count": 57,
   "metadata": {},
   "outputs": [
    {
     "name": "stdout",
     "output_type": "stream",
     "text": [
      "Test accuracy of Kernal SVM without PCA or LDA for 2 degree polynomial:  91.4\n"
     ]
    }
   ],
   "source": [
    "svmclassifier = SVC(kernel='poly', degree=2)\n",
    "svmclassifier.fit(X_train, y_train)\n",
    "\n",
    "y_pred_svm = svmclassifier.predict(X_test)\n",
    "\n",
    "test_acc = accuracy_score(y_test,y_pred_svm)*100\n",
    "\n",
    "print(\"Test accuracy of Kernal SVM without PCA or LDA for 2 degree polynomial: \",test_acc)\n",
    "\n"
   ]
  },
  {
   "cell_type": "code",
   "execution_count": 58,
   "metadata": {},
   "outputs": [
    {
     "name": "stdout",
     "output_type": "stream",
     "text": [
      "Test accuracy of Kernal SVM without PCA or LDA 1 polynomial:  93.19\n"
     ]
    }
   ],
   "source": [
    "svmclassifier = SVC(kernel='poly', degree=1)\n",
    "svmclassifier.fit(X_train, y_train)\n",
    "\n",
    "y_pred_svm = svmclassifier.predict(X_test)\n",
    "\n",
    "test_acc = accuracy_score(y_test,y_pred_svm)*100\n",
    "\n",
    "print(\"Test accuracy of Kernal SVM without PCA or LDA 1 polynomial: \",test_acc)\n",
    "\n"
   ]
  },
  {
   "cell_type": "markdown",
   "metadata": {},
   "source": [
    "### 7.3 Radial Basis Function kernel SVM without PCA or LDA"
   ]
  },
  {
   "cell_type": "code",
   "execution_count": 59,
   "metadata": {},
   "outputs": [
    {
     "name": "stdout",
     "output_type": "stream",
     "text": [
      "Test accuracy of RBF SVM Without PCA or LDA :  94.46\n"
     ]
    }
   ],
   "source": [
    "svmclassifier = SVC(kernel='rbf')\n",
    "svmclassifier.fit(X_train, y_train)\n",
    "\n",
    "y_pred_svm = svmclassifier.predict(X_test)\n",
    "\n",
    "test_acc = accuracy_score(y_test,y_pred_svm)*100\n",
    "\n",
    "print(\"Test accuracy of RBF SVM Without PCA or LDA : \",test_acc)\n"
   ]
  },
  {
   "cell_type": "code",
   "execution_count": null,
   "metadata": {},
   "outputs": [],
   "source": []
  }
 ],
 "metadata": {
  "kernelspec": {
   "display_name": "Python 3",
   "language": "python",
   "name": "python3"
  },
  "language_info": {
   "codemirror_mode": {
    "name": "ipython",
    "version": 3
   },
   "file_extension": ".py",
   "mimetype": "text/x-python",
   "name": "python",
   "nbconvert_exporter": "python",
   "pygments_lexer": "ipython3",
   "version": "3.7.0"
  }
 },
 "nbformat": 4,
 "nbformat_minor": 2
}
