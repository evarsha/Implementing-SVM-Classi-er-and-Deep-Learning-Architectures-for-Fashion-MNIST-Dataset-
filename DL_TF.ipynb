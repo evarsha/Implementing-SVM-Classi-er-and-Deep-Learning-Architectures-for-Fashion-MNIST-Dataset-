{
 "cells": [
  {
   "cell_type": "markdown",
   "metadata": {},
   "source": [
    "# 1. Importing Libraries"
   ]
  },
  {
   "cell_type": "code",
   "execution_count": 1,
   "metadata": {},
   "outputs": [],
   "source": [
    "###IMPORTING LIBRARIES\n",
    "\n",
    "import numpy as np\n",
    "import tensorflow as tf\n",
    "import os\n",
    "from tensorflow.python.framework import ops\n",
    "import gzip\n",
    "\n",
    "import mnist_reader\n",
    "import matplotlib.pyplot as plt\n",
    "\n",
    "\n",
    "from tf_utils import random_mini_batches, convert_to_one_hot, predict\n"
   ]
  },
  {
   "cell_type": "markdown",
   "metadata": {},
   "source": [
    "# 2. Loading Fashion-MNIST dataset from path"
   ]
  },
  {
   "cell_type": "code",
   "execution_count": 2,
   "metadata": {},
   "outputs": [],
   "source": [
    "###LOADING MNIST DATASET\n",
    "\n",
    "\n",
    "def load_mnist(path, kind='train'):\n",
    "   \n",
    "    \"\"\"Loading MNIST data from `path`\"\"\"\n",
    "    labels_path = os.path.join(path,'%s-labels-idx1-ubyte.gz'% kind)\n",
    "\n",
    "    images_path = os.path.join(path,'%s-images-idx3-ubyte.gz'% kind)\n",
    "\n",
    "    with gzip.open(labels_path, 'rb') as lbpath:\n",
    "        labels = np.frombuffer(lbpath.read(), dtype=np.uint8,offset=8)\n",
    "\n",
    "    with gzip.open(images_path, 'rb') as imgpath:\n",
    "        images = np.frombuffer(imgpath.read(), dtype=np.uint8,offset=16).reshape(len(labels), 784)\n",
    "\n",
    "    print(\"Dataset Loaded\")\n",
    "    \n",
    "    return images, labels"
   ]
  },
  {
   "cell_type": "markdown",
   "metadata": {},
   "source": [
    "# 3. Loading Test and Train set Features and Labels"
   ]
  },
  {
   "cell_type": "code",
   "execution_count": 3,
   "metadata": {},
   "outputs": [],
   "source": [
    "###LOADING TRAIN AND TEST SET FEATURES AND LABELS\n",
    "\n",
    "X_train, y_train = mnist_reader.load_mnist('C:/Users/evars/OneDrive/Desktop/ENEE633_P2', kind='train')\n",
    "X_test, y_test = mnist_reader.load_mnist('C:/Users/evars/OneDrive/Desktop/ENEE633_P2', kind='t10k')\n"
   ]
  },
  {
   "cell_type": "markdown",
   "metadata": {},
   "source": [
    "# 4. Data Normalization"
   ]
  },
  {
   "cell_type": "code",
   "execution_count": 4,
   "metadata": {},
   "outputs": [
    {
     "name": "stdout",
     "output_type": "stream",
     "text": [
      "Feature Train and Test datasets are normalized\n",
      "Shape of Train set features (X_train) :   (784, 60000)\n",
      "Shape of Train set labels (y_train) :   (10, 60000)\n",
      "Shape of Test set features (X_test) :   (784, 10000)\n",
      "Shape of Test set labels (y_test) :   (10, 10000)\n"
     ]
    }
   ],
   "source": [
    "###NORMALIZING AND CHECKING THE SHAPES OF TRAIN AND TEST SETS\n",
    "\n",
    "\n",
    "\n",
    "X_train = X_train/255\n",
    "\n",
    "X_test = X_test/255\n",
    "\n",
    "print(\"Feature Train and Test datasets are normalized\")\n",
    "\n",
    "y_train = convert_to_one_hot(y_train, 10)\n",
    "y_test = convert_to_one_hot(y_test, 10)\n",
    "\n",
    "\n",
    "#print(X_train[1])\n",
    "\n",
    "X_train = X_train.reshape(X_train.shape).T   \n",
    "\n",
    "#y_train = y_train[np.newaxis]\n",
    "\n",
    "X_test = X_test.reshape(X_test.shape).T   \n",
    "\n",
    "#y_test = y_test[np.newaxis]\n",
    "\n",
    "print(\"Shape of Train set features (X_train) :  \",X_train.shape)\n",
    "print(\"Shape of Train set labels (y_train) :  \",y_train.shape)\n",
    "print(\"Shape of Test set features (X_test) :  \",X_test.shape)\n",
    "print(\"Shape of Test set labels (y_test) :  \",y_test.shape)\n",
    "#print(X_train[0:783,0])"
   ]
  },
  {
   "cell_type": "markdown",
   "metadata": {},
   "source": [
    "# 5. Creating Placeholders"
   ]
  },
  {
   "cell_type": "code",
   "execution_count": 5,
   "metadata": {},
   "outputs": [],
   "source": [
    "# Creating Placeholders using tensorflow session: create_placeholders\n",
    "\n",
    "def create_placeholders(n_x, n_y):\n",
    "    \n",
    "    X = tf.placeholder(tf.float32, [n_x, None], name=\"X\")\n",
    "    Y = tf.placeholder(tf.float32, [n_y, None], name=\"Y\")\n",
    "    \n",
    "    \n",
    "    return X, Y"
   ]
  },
  {
   "cell_type": "code",
   "execution_count": 6,
   "metadata": {},
   "outputs": [
    {
     "name": "stdout",
     "output_type": "stream",
     "text": [
      "X = Tensor(\"X:0\", shape=(784, ?), dtype=float32)\n",
      "Y = Tensor(\"Y:0\", shape=(10, ?), dtype=float32)\n"
     ]
    }
   ],
   "source": [
    "# Checking for Placeholders\n",
    "\n",
    "X, Y = create_placeholders(784, 10)\n",
    "print (\"X = \" + str(X))\n",
    "print (\"Y = \" + str(Y))"
   ]
  },
  {
   "cell_type": "markdown",
   "metadata": {},
   "source": [
    "# 6. Initializing Parameters"
   ]
  },
  {
   "cell_type": "code",
   "execution_count": 7,
   "metadata": {},
   "outputs": [],
   "source": [
    "# Initializing random weights and bias for NN: initialize_parameters\n",
    "\n",
    "def initialize_parameters():\n",
    "   \n",
    "    \n",
    "    tf.set_random_seed(1)                  \n",
    "    \n",
    "    W1 = tf.get_variable(\"W1\", [50, 784], initializer = tf.contrib.layers.xavier_initializer(seed=1))\n",
    "    b1 = tf.get_variable(\"b1\", [50, 1], initializer = tf.zeros_initializer())\n",
    "    W2 = tf.get_variable(\"W2\", [14, 50], initializer = tf.contrib.layers.xavier_initializer(seed=1))\n",
    "    b2 = tf.get_variable(\"b2\", [14, 1], initializer = tf.zeros_initializer())\n",
    "    W3 = tf.get_variable(\"W3\", [10, 14], initializer = tf.contrib.layers.xavier_initializer(seed=1))\n",
    "    b3 = tf.get_variable(\"b3\", [10, 1], initializer = tf.zeros_initializer())\n",
    "    \n",
    "\n",
    "    parameters = {\"W1\": W1,\n",
    "                  \"b1\": b1,\n",
    "                  \"W2\": W2,\n",
    "                  \"b2\": b2,\n",
    "                  \"W3\": W3,\n",
    "                  \"b3\": b3}\n",
    "    \n",
    "    return parameters"
   ]
  },
  {
   "cell_type": "markdown",
   "metadata": {},
   "source": [
    "# 7. Forward propagation in Tensorflow"
   ]
  },
  {
   "cell_type": "code",
   "execution_count": 9,
   "metadata": {},
   "outputs": [],
   "source": [
    "# LINEAR -> RELU -> LINEAR -> RELU -> LINEAR -> SOFTMAX: forward_propagation\n",
    "\n",
    "def forward_propagation(X, parameters):\n",
    "  \n",
    "    # Dictionary \"parameters\" \n",
    "    W1 = parameters['W1']\n",
    "    b1 = parameters['b1']\n",
    "    W2 = parameters['W2']\n",
    "    b2 = parameters['b2']\n",
    "    W3 = parameters['W3']\n",
    "    b3 = parameters['b3']\n",
    "    \n",
    "    # Using Tensorflow                                   \n",
    "    Z1 = tf.add(tf.matmul(W1, X), b1)                      \n",
    "    A1 = tf.nn.relu(Z1)                                    \n",
    "    Z2 = tf.add(tf.matmul(W2, A1), b2) \n",
    "    A2 = tf.nn.relu(Z2) \n",
    "    Z3 = tf.add(tf.matmul(W3, A2), b3)\n",
    "    \n",
    "    \n",
    "    return Z3"
   ]
  },
  {
   "cell_type": "markdown",
   "metadata": {},
   "source": [
    "# 8. Cost Computation"
   ]
  },
  {
   "cell_type": "code",
   "execution_count": 11,
   "metadata": {},
   "outputs": [],
   "source": [
    "# Cross Entropy loss function: compute_cost \n",
    "\n",
    "def compute_cost(Z3, Y):\n",
    "   \n",
    "    logits = tf.transpose(Z3)\n",
    "    labels =  tf.transpose(Y)\n",
    "    \n",
    "    cost = tf.reduce_mean(tf.nn.softmax_cross_entropy_with_logits(logits=logits,labels=labels))\n",
    "   \n",
    "    return cost"
   ]
  },
  {
   "cell_type": "markdown",
   "metadata": {},
   "source": [
    "# 9. Backward Propagation"
   ]
  },
  {
   "cell_type": "code",
   "execution_count": 13,
   "metadata": {},
   "outputs": [],
   "source": [
    "def model(X_train, Y_train, X_test, Y_test, learning_rate = 0.0001, num_epochs = 500, minibatch_size = 100, print_cost = True):\n",
    "    \n",
    "    ops.reset_default_graph() \n",
    "    tf.set_random_seed(1)\n",
    "    seed = 3\n",
    "    (n_x, m) = X_train.shape \n",
    "    n_y = Y_train.shape[0]\n",
    "    costs = []\n",
    "    \n",
    "    # Creating Placeholders from the above function\n",
    "    X, Y = create_placeholders(n_x, n_y)\n",
    "    \n",
    "\n",
    "    # Initializing parameters\n",
    "    parameters = initialize_parameters()\n",
    "    \n",
    "    # Forward propagation\n",
    "    Z3 = forward_propagation(X, parameters)\n",
    "    \n",
    "    \n",
    "    # Adding cost function \n",
    "    cost = compute_cost(Z3, Y)\n",
    "    \n",
    "\n",
    "    # Backpropagation\n",
    "    optimizer = tf.train.AdamOptimizer(learning_rate=learning_rate).minimize(cost)\n",
    "        \n",
    "    init = tf.global_variables_initializer()\n",
    "\n",
    "    # Starting the session\n",
    "    with tf.Session() as sess:\n",
    "        \n",
    "        # Running the initialization\n",
    "        sess.run(init)\n",
    "        \n",
    "        # Training loop\n",
    "        for epoch in range(num_epochs):\n",
    "\n",
    "            epoch_cost = 0\n",
    "            num_minibatches = int(m / minibatch_size)\n",
    "            seed = seed + 1\n",
    "            minibatches = random_mini_batches(X_train, Y_train, minibatch_size, seed)\n",
    "\n",
    "            for minibatch in minibatches:\n",
    "                \n",
    "                (minibatch_X, minibatch_Y) = minibatch\n",
    "                \n",
    "                _ , minibatch_cost = sess.run([optimizer, cost], feed_dict = {X: minibatch_X, Y: minibatch_Y})\n",
    "                \n",
    "                \n",
    "                epoch_cost += minibatch_cost / num_minibatches\n",
    "\n",
    "            # Printing the cost at every epoch\n",
    "            if print_cost == True and epoch % 50 == 0:\n",
    "                print (\"Cost after epoch %i: %f\" % (epoch, epoch_cost))\n",
    "            if print_cost == True and epoch % 5 == 0:\n",
    "                costs.append(epoch_cost)\n",
    "                \n",
    "        # Plotting the cost\n",
    "        plt.plot(np.squeeze(costs))\n",
    "        plt.ylabel('cost')\n",
    "        plt.xlabel('iterations (per tens)')\n",
    "        plt.title(\"Learning rate =\" + str(learning_rate))\n",
    "        plt.show()\n",
    "\n",
    "        parameters = sess.run(parameters)\n",
    "        print (\"Parameters have been trained!\")\n",
    "\n",
    "        # Correct predictions\n",
    "        correct_prediction = tf.equal(tf.argmax(Z3), tf.argmax(Y))\n",
    "\n",
    "        # Accuracy on the test set\n",
    "        accuracy = tf.reduce_mean(tf.cast(correct_prediction, \"float\"))\n",
    "\n",
    "        print (\"Train Accuracy:\", accuracy.eval({X: X_train, Y: Y_train})*100)\n",
    "        print (\"Test Accuracy:\", accuracy.eval({X: X_test, Y: Y_test})*100)\n",
    "        \n",
    "        return parameters"
   ]
  },
  {
   "cell_type": "code",
   "execution_count": 14,
   "metadata": {},
   "outputs": [
    {
     "name": "stdout",
     "output_type": "stream",
     "text": [
      "Cost after epoch 0: 1.414395\n",
      "Cost after epoch 50: 0.083237\n",
      "Cost after epoch 100: 0.040651\n",
      "Cost after epoch 150: 0.020357\n",
      "Cost after epoch 200: 0.009163\n",
      "Cost after epoch 250: 0.003324\n",
      "Cost after epoch 300: 0.000993\n",
      "Cost after epoch 350: 0.000269\n",
      "Cost after epoch 400: 0.000076\n",
      "Cost after epoch 450: 0.000025\n"
     ]
    },
    {
     "data": {
      "image/png": "[encoded data removed]",
      "text/plain": [
       "<Figure size 432x288 with 1 Axes>"
      ]
     },
     "metadata": {
      "needs_background": "light"
     },
     "output_type": "display_data"
    },
    {
     "name": "stdout",
     "output_type": "stream",
     "text": [
      "Parameters have been trained!\n",
      "Train Accuracy: 100.0\n",
      "Test Accuracy: 96.95000052452087\n"
     ]
    }
   ],
   "source": [
    "parameters = model(X_train, y_train, X_test, y_test)"
   ]
  }
 ],
 "metadata": {
  "kernelspec": {
   "display_name": "Python 3",
   "language": "python",
   "name": "python3"
  },
  "language_info": {
   "codemirror_mode": {
    "name": "ipython",
    "version": 3
   },
   "file_extension": ".py",
   "mimetype": "text/x-python",
   "name": "python",
   "nbconvert_exporter": "python",
   "pygments_lexer": "ipython3",
   "version": "3.7.0"
  }
 },
 "nbformat": 4,
 "nbformat_minor": 2
}
